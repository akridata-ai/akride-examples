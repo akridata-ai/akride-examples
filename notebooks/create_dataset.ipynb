{
 "cells": [
  {
   "cell_type": "markdown",
   "execution_count": null,
   "id": "d5601323-1266-4e3e-aa51-092ece1a216c",
   "metadata": {},
   "outputs": [],
   "source": [
    "Create a dataset in Data Explorer, but without adding or ingesting any data.\n",
    "\n",
    "Focus on:\n",
    "client.create_dataset()"
   ]
  },
  {
   "cell_type": "code",
   "execution_count": null,
   "id": "3f013645-2280-4e8c-8955-eaf36f1258aa",
   "metadata": {},
   "outputs": [],
   "source": [
    "from akride import AkriDEClient\n",
    "from akride.core.enums import DataType\n",
    "\n",
    "\n",
    "# Get the API_KEY from Data Explorer → Utilities → Get CLI/SDK config:\n",
    "sdk_config_dict = {\n",
    "  \"saas_endpoint\": \"https://app.akridata.ai\",\n",
    "  \"api_key\": \"akridata-804b6140d095:kGgXfc2qbXrgso0f5cGzuynaCiLxLZ0fc6xvRs6eFBAu0Ykd\",\n",
    "  \"mode\": \"saas\"\n",
    "}\n",
    "\n",
    "# Define the Data Explorer client side:\n",
    "client = AkriDEClient(sdk_config_dict=sdk_config_dict)"
   ]
  },
  {
   "cell_type": "code",
   "execution_count": 2,
   "id": "07da3ded-25fb-43d9-a881-6774cc1102ba",
   "metadata": {
    "scrolled": true
   },
   "outputs": [
    {
     "ename": "NameError",
     "evalue": "name 'client' is not defined",
     "output_type": "error",
     "traceback": [
      "\u001b[1;31m---------------------------------------------------------------------------\u001b[0m",
      "\u001b[1;31mNameError\u001b[0m                                 Traceback (most recent call last)",
      "Cell \u001b[1;32mIn[2], line 3\u001b[0m\n\u001b[0;32m      1\u001b[0m \u001b[38;5;66;03m# Register a dataset on Data Explorer:\u001b[39;00m\n\u001b[0;32m      2\u001b[0m dataset_spec \u001b[38;5;241m=\u001b[39m {\u001b[38;5;124m\"\u001b[39m\u001b[38;5;124mdataset_name\u001b[39m\u001b[38;5;124m\"\u001b[39m: \u001b[38;5;124m\"\u001b[39m\u001b[38;5;124mDataset-of-images\u001b[39m\u001b[38;5;124m\"\u001b[39m, \u001b[38;5;124m\"\u001b[39m\u001b[38;5;124mdata_type\u001b[39m\u001b[38;5;124m\"\u001b[39m: DataType\u001b[38;5;241m.\u001b[39mIMAGE}  \u001b[38;5;66;03m# Use DataType.VIDEO for videos\u001b[39;00m\n\u001b[1;32m----> 3\u001b[0m dataset \u001b[38;5;241m=\u001b[39m \u001b[43mclient\u001b[49m\u001b[38;5;241m.\u001b[39mcreate_dataset(spec\u001b[38;5;241m=\u001b[39mdataset_spec)\n\u001b[0;32m      4\u001b[0m \u001b[38;5;28mprint\u001b[39m(\u001b[38;5;124mf\u001b[39m\u001b[38;5;124m\"\u001b[39m\u001b[38;5;124mDataset \u001b[39m\u001b[38;5;132;01m{\u001b[39;00mdataset\u001b[38;5;241m.\u001b[39mget_name()\u001b[38;5;132;01m}\u001b[39;00m\u001b[38;5;124m created successfully with ID \u001b[39m\u001b[38;5;132;01m{\u001b[39;00mdataset\u001b[38;5;241m.\u001b[39mget_id()\u001b[38;5;132;01m}\u001b[39;00m\u001b[38;5;124m\"\u001b[39m)\n",
      "\u001b[1;31mNameError\u001b[0m: name 'client' is not defined"
     ]
    }
   ],
   "source": [
    "# Register a dataset on Data Explorer:\n",
    "dataset_spec = {\"dataset_name\": \"Dataset-of-images\", \"data_type\": DataType.IMAGE}  # Use DataType.VIDEO for videos\n",
    "dataset = client.create_dataset(spec=dataset_spec)\n",
    "print(f\"Dataset {dataset.get_name()} created successfully with ID {dataset.get_id()}\")"
   ]
  },
  {
   "cell_type": "code",
   "execution_count": null,
   "id": "d0a2bf3d-7696-4815-9cc7-5ef12b1ec0d6",
   "metadata": {},
   "outputs": [],
   "source": []
  }
 ],
 "metadata": {
  "kernelspec": {
   "display_name": "Python 3 (ipykernel)",
   "language": "python",
   "name": "python3"
  },
  "language_info": {
   "codemirror_mode": {
    "name": "ipython",
    "version": 3
   },
   "file_extension": ".py",
   "mimetype": "text/x-python",
   "name": "python",
   "nbconvert_exporter": "python",
   "pygments_lexer": "ipython3",
   "version": "3.10.7"
  }
 },
 "nbformat": 4,
 "nbformat_minor": 5
}
