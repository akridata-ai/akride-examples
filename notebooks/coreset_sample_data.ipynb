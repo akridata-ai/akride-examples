{
 "cells": [
  {
   "cell_type": "markdown",
   "execution_count": null,
   "id": "6e5ef514-a339-43d0-9de5-ec945da8928c",
   "metadata": {},
   "outputs": [],
   "source": [
    "Sample a set of images using Coreset - preserving small clusters.\n",
    "\n",
    "Focus on:\n",
    "JobContext.CORESET_SAMPLING\n",
    "client.get_job_samples()"
   ]
  },
  {
   "cell_type": "code",
   "execution_count": 1,
   "id": "d6870313-bc88-40f9-9e16-35895b3ef3f9",
   "metadata": {},
   "outputs": [
    {
     "name": "stdout",
     "output_type": "stream",
     "text": [
      "AkriDEClient initialized\n"
     ]
    }
   ],
   "source": [
    "import matplotlib.pyplot as plt\n",
    "\n",
    "from akride import AkriDEClient, JobContext\n",
    "\n",
    "# Get the API_KEY from Data Explorer → Utilities → Get CLI/SDK config:\n",
    "sdk_config_dict = {\n",
    "  \"saas_endpoint\": \"https://app.akridata.ai\",\n",
    "  \"api_key\": \"akridata-804b6140d095:kGgXfc2qbXrgso0f5cGzuynaCiLxLZ0fc6xvRs6eFBAu0Ykd\",\n",
    "  \"mode\": \"saas\"\n",
    "}\n",
    "# Define the Data Explorer client side:\n",
    "client = AkriDEClient(sdk_config_dict=sdk_config_dict)"
   ]
  },
  {
   "cell_type": "code",
   "execution_count": null,
   "id": "5c9e3450-6f39-40b0-80ec-7e2096302da8",
   "metadata": {},
   "outputs": [],
   "source": [
    "# Utility:\n",
    "def display_images(images: list,\n",
    "                   n_rows: int,\n",
    "                   n_cols: int,\n",
    "                   figure_w: int,\n",
    "                   figure_h: int,\n",
    "                   save_file: str = None):\n",
    "    \"\"\"Display a grid of n_rows x n_cols of images. Show the images or save if path provided\"\"\"\n",
    "    if len(images) > (n_rows * n_cols):\n",
    "        raise Exception(f\"Provided {len(images)} images. Too much for a fig with {n_rows * n_cols} subplots\")\n",
    "    fig = plt.figure(figsize=(figure_w, figure_h))\n",
    "    for i, img in enumerate(images):\n",
    "        fig.add_subplot(n_rows, n_cols, i + 1)\n",
    "        plt.axis('off')\n",
    "        plt.tight_layout()\n",
    "        plt.imshow(img)\n",
    "\n",
    "    if save_file is None:\n",
    "        plt.show()\n",
    "    else:\n",
    "        plt.savefig(save_file)"
   ]
  },
  {
   "cell_type": "code",
   "execution_count": null,
   "id": "165afcaa-ed0b-4a7d-9455-e9fa0049470a",
   "metadata": {},
   "outputs": [],
   "source": [
    "# Retrieve the job by name:\n",
    "job = client.get_job_by_name(\"data-explore\".upper())\n",
    "print(f\"Got job - {job.get_name()}\")"
   ]
  },
  {
   "cell_type": "code",
   "execution_count": null,
   "id": "3ed057a7-917d-42ce-a311-0b841c49be42",
   "metadata": {},
   "outputs": [],
   "source": [
    "# Apply coreset sampling to get 15% of the images:\n",
    "spec = {\"percent\": 15}\n",
    "samples = client.get_job_samples(job, JobContext.CORESET_SAMPLING, spec)\n",
    "print(f\"Retrieved {len(samples)} samples\")\n",
    "\n",
    "# Display the first 6 thumbnails:\n",
    "thumbnails = client.get_thumbnail_images(samples=samples[:6])\n",
    "print(\"Examples after Core-set:\")\n",
    "display_images(thumbnails, n_rows=1, n_cols=6, figure_w=10, figure_h=3, save_file=None)"
   ]
  }
 ],
 "metadata": {
  "kernelspec": {
   "display_name": "Python 3 (ipykernel)",
   "language": "python",
   "name": "python3"
  },
  "language_info": {
   "codemirror_mode": {
    "name": "ipython",
    "version": 3
   },
   "file_extension": ".py",
   "mimetype": "text/x-python",
   "name": "python",
   "nbconvert_exporter": "python",
   "pygments_lexer": "ipython3",
   "version": "3.10.7"
  }
 },
 "nbformat": 4,
 "nbformat_minor": 5
}
