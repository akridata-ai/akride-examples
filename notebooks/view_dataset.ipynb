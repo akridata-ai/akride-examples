{
 "cells": [
  {
   "cell_type": "code",
   "execution_count": null,
   "id": "55522a1f-e7f3-4706-b98b-559d130d1f40",
   "metadata": {},
   "outputs": [],
   "source": [
    "Get a URL into Data Explorer for the data visualization.\n",
    "\n",
    "Focus on:\n",
    "client.get_job_display_panel()"
   ]
  },
  {
   "cell_type": "code",
   "execution_count": null,
   "id": "2924cedd-181d-46c2-9454-c5a31c1f2376",
   "metadata": {},
   "outputs": [],
   "source": [
    "from akride import AkriDEClient\n",
    "\n",
    "\n",
    "# Get the API_KEY from Data Explorer → Utilities → Get CLI/SDK config:\n",
    "sdk_config_dict = {\n",
    "  \"saas_endpoint\": \"https://app.akridata.ai\",\n",
    "  \"api_key\": \"akridata-804b6140d095:kGgXfc2qbXrgso0f5cGzuynaCiLxLZ0fc6xvRs6eFBAu0Ykd\",\n",
    "  \"mode\": \"saas\"\n",
    "}\n",
    "# Define the Data Explorer client side:\n",
    "client = AkriDEClient(sdk_config_dict=sdk_config_dict)"
   ]
  },
  {
   "cell_type": "code",
   "execution_count": null,
   "id": "63b5c232-821f-4697-ba5a-216b60ac00cd",
   "metadata": {},
   "outputs": [],
   "source": [
    "# Retrieve the job by name:\n",
    "job = client.get_job_by_name(\"data-explore\".upper())\n",
    "print(f\"Got job - {job.get_name()}\")\n",
    "\n",
    "# Get the URL for the job in Data Explorer:\n",
    "url = client.get_job_display_panel(job)\n",
    "print(url)\n",
    "\n",
    "# NOTE:\n",
    "# 1. Login into your Data Explorer account\n",
    "# 2. The URL is your dataset visualization page"
   ]
  }
 ],
 "metadata": {
  "kernelspec": {
   "display_name": "Python 3 (ipykernel)",
   "language": "python",
   "name": "python3"
  },
  "language_info": {
   "codemirror_mode": {
    "name": "ipython",
    "version": 3
   },
   "file_extension": ".py",
   "mimetype": "text/x-python",
   "name": "python",
   "nbconvert_exporter": "python",
   "pygments_lexer": "ipython3",
   "version": "3.10.7"
  }
 },
 "nbformat": 4,
 "nbformat_minor": 5
}
