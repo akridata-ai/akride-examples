{
 "cells": [
  {
   "cell_type": "code",
   "execution_count": null,
   "id": "796a6e42-1a73-415f-acda-e2a79d8a6509",
   "metadata": {},
   "outputs": [],
   "source": [
    "Exploring the data in a given dataset.\n",
    "This step clusters the data and allows you to visualize the dataset on a 2D plane.\n",
    "\n",
    "Focus on:\n",
    "client.create_job()\n",
    "client.get_job_by_name()"
   ]
  },
  {
   "cell_type": "code",
   "execution_count": null,
   "id": "9553512c-b5fc-474f-9934-adc1d9e869c8",
   "metadata": {},
   "outputs": [],
   "source": [
    "import time\n",
    "\n",
    "from akride import AkriDEClient\n",
    "\n",
    "\n",
    "# Get the API_KEY from Data Explorer → Utilities → Get CLI/SDK config:\n",
    "sdk_config_dict = {\n",
    "  \"saas_endpoint\": \"https://app.akridata.ai\",\n",
    "  \"api_key\": \"akridata-804b6140d095:kGgXfc2qbXrgso0f5cGzuynaCiLxLZ0fc6xvRs6eFBAu0Ykd\",\n",
    "  \"mode\": \"saas\"\n",
    "}\n",
    "# Define the Data Explorer client side:\n",
    "client = AkriDEClient(sdk_config_dict=sdk_config_dict)"
   ]
  },
  {
   "cell_type": "code",
   "execution_count": null,
   "id": "a5cc8ec8-daab-4464-a942-e582fd43dc06",
   "metadata": {},
   "outputs": [],
   "source": [
    "# Get dataset using dataset name\n",
    "dataset = client.get_dataset_by_name(name=\"Dataset-of-images\")\n",
    "print(f\"Connected to {dataset.get_name()}, ID: {dataset.get_id()}\")"
   ]
  },
  {
   "cell_type": "code",
   "execution_count": null,
   "id": "f0fe8c23-b7f8-4916-ae77-7e2689457462",
   "metadata": {},
   "outputs": [],
   "source": [
    "# Create a job and wait for completion. Job name must be at least 3 characters long:\n",
    "job_name = \"data-explore\"\n",
    "job_spec = client.create_job_spec(dataset=dataset, job_name=job_name)\n",
    "job = client.create_job(spec=job_spec)\n",
    "while True:\n",
    "    job = client.get_job_by_name(job_name.upper())\n",
    "    if job.info.status in [\"READY\", \"FAILED\"]:  # type: ignore\n",
    "        if job.info.status == \"FAILED\":  # type: ignore\n",
    "            print(f\"{job.get_name()} is in failed state. See logs for more info.\")\n",
    "\n",
    "        break\n",
    "    else:\n",
    "        print(\"Waiting for job completion\")\n",
    "        time.sleep(5)\n",
    "\n",
    "print(f\"Ready to explore - {job.get_name()} with {job.info.to_dict()['tunables_default']['max_clusters']} clusters\")"
   ]
  }
 ],
 "metadata": {
  "kernelspec": {
   "display_name": "Python 3 (ipykernel)",
   "language": "python",
   "name": "python3"
  },
  "language_info": {
   "codemirror_mode": {
    "name": "ipython",
    "version": 3
   },
   "file_extension": ".py",
   "mimetype": "text/x-python",
   "name": "python",
   "nbconvert_exporter": "python",
   "pygments_lexer": "ipython3",
   "version": "3.10.7"
  }
 },
 "nbformat": 4,
 "nbformat_minor": 5
}
