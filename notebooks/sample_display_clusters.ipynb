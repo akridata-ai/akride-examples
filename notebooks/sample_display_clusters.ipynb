{
    "cells": [
        {
            "cell_type": "markdown",
            "execution_count": null,
            "id": "14b6c22d-265f-4e6e-88c8-e004c70f5c8d",
            "metadata": {},
            "outputs": [],
            "source": [
                "After creating a visualization of a dataset, get a few samples from each cluster and display them.\n",
                "\n",
                "Focus on:\n",
                "client.get_job_samples()\n",
                "client.get_thumbnail_images()"
            ]
        },
        {
            "cell_type": "code",
            "execution_count": null,
            "id": "6068d7f1-f2e2-49b0-8c10-57b06170c511",
            "metadata": {},
            "outputs": [],
            "source": [
                "import matplotlib.pyplot as plt\n",
                "\n",
                "from akride import AkriDEClient, JobContext\n",
                "\n",
                "# Get the API_KEY from Data Explorer → Utilities → Get CLI/SDK config:\n",
                "sdk_config_dict = {\n",
                "  \"saas_endpoint\": \"https://app.akridata.ai\",\n",
                "  \"api_key\": \"akridata-apikey\",\n",
                "  \"mode\": \"saas\"\n",
                "}\n",
                "# Define the Data Explorer client side:\n",
                "client = AkriDEClient(sdk_config_dict=sdk_config_dict)"
            ]
        },
        {
            "cell_type": "code",
            "execution_count": null,
            "id": "a35d389d-ad12-467d-bf2d-88b4911d4ea1",
            "metadata": {},
            "outputs": [],
            "source": [
                "# Utility:\n",
                "def display_images(images: list,\n",
                "                   n_rows: int,\n",
                "                   n_cols: int,\n",
                "                   figure_w: int,\n",
                "                   figure_h: int,\n",
                "                   save_file: str = None):\n",
                "    \"\"\"Display a grid of n_rows x n_cols of images. Show the images or save if path provided\"\"\"\n",
                "    if len(images) > (n_rows * n_cols):\n",
                "        raise Exception(f\"Provided {len(images)} images. Too much for a fig with {n_rows * n_cols} subplots\")\n",
                "    fig = plt.figure(figsize=(figure_w, figure_h))\n",
                "    for i, img in enumerate(images):\n",
                "        fig.add_subplot(n_rows, n_cols, i + 1)\n",
                "        plt.axis('off')\n",
                "        plt.tight_layout()\n",
                "        plt.imshow(img)\n",
                "\n",
                "    if save_file is None:\n",
                "        plt.show()\n",
                "    else:\n",
                "        plt.savefig(save_file)"
            ]
        },
        {
            "cell_type": "code",
            "execution_count": null,
            "id": "1d414433-9e98-4a21-ba9d-ca99ae3a7e20",
            "metadata": {},
            "outputs": [],
            "source": [
                "# Retrieve the job by name:\n",
                "job = client.get_job_by_name(\"data-explore\".upper())\n",
                "print(f\"Got job - {job.get_name()}\")\n",
                "\n",
                "# Get number of clusters to sample from:\n",
                "num_clusters = job.info.to_dict()[\"tunables_default\"][\"max_clusters\"]\n",
                "print(f\"Data has {num_clusters} clusters\")"
            ]
        },
        {
            "cell_type": "code",
            "execution_count": null,
            "id": "dc68d78d-c4f8-4df4-b463-5b1a90a46a02",
            "metadata": {},
            "outputs": [],
            "source": [
                "# Number of samples to get from each cluster:\n",
                "max_count = 5\n",
                "\n",
                "for cluster_id in range(1, num_clusters + 1):\n",
                "    # Set the cluster ID:\n",
                "    spec = {\"cluster_id\": cluster_id, \"max_count\": max_count}\n",
                "    # Get thumbnails of the chosen samples:\n",
                "    samples = client.get_job_samples(job, JobContext.CLUSTER_RETRIEVAL, spec)  # type: ignore\n",
                "    thumbnails = client.get_thumbnail_images(samples)\n",
                "    # display grid:\n",
                "    print(f\"Examples for cluster {cluster_id}\")\n",
                "    display_images(thumbnails, n_rows=2, n_cols=3, figure_w=5, figure_h=5, save_file=None)\n",
                "    # display_images(thumbnails, n_rows=2, n_cols=3, figure_w=5, figure_h=5, save_file=\"./\" + str(cluster_id) + \".jpg\")\n",
                "\n",
                "print(\"Provided examples for each cluster\")"
            ]
        }
    ],
    "metadata": {
        "kernelspec": {
            "display_name": "Python 3 (ipykernel)",
            "language": "python",
            "name": "python3"
        },
        "language_info": {
            "codemirror_mode": {
                "name": "ipython",
                "version": 3
            },
            "file_extension": ".py",
            "mimetype": "text/x-python",
            "name": "python",
            "nbconvert_exporter": "python",
            "pygments_lexer": "ipython3",
            "version": "3.10.7"
        }
    },
    "nbformat": 4,
    "nbformat_minor": 5
}