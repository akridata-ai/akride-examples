{
    "cells": [
        {
            "cell_type": "markdown",
            "execution_count": null,
            "id": "49348147-2b55-4f13-94a9-5faafba4702d",
            "metadata": {},
            "outputs": [],
            "source": [
                "Create a result set for further data curation.\n",
                "Resultset is the way Data Explorer provides result to user in a 'read only' environment.\n",
                "\n",
                "Focus on:\n",
                "client.create_resultset()\n",
                "client.get_resultset_samples()"
            ]
        },
        {
            "cell_type": "code",
            "execution_count": 1,
            "id": "5135e35a-ee1b-49ac-952b-2fcc8c6acb12",
            "metadata": {},
            "outputs": [
                {
                    "ename": "ModuleNotFoundError",
                    "evalue": "No module named 'display_images'",
                    "output_type": "error",
                    "traceback": [
                        "\u001b[1;31m---------------------------------------------------------------------------\u001b[0m",
                        "\u001b[1;31mModuleNotFoundError\u001b[0m                       Traceback (most recent call last)",
                        "Cell \u001b[1;32mIn[1], line 3\u001b[0m\n\u001b[0;32m      1\u001b[0m \u001b[38;5;28;01mfrom\u001b[39;00m \u001b[38;5;21;01makride\u001b[39;00m \u001b[38;5;28;01mimport\u001b[39;00m AkriDEClient, JobContext\n\u001b[1;32m----> 3\u001b[0m \u001b[38;5;28;01mfrom\u001b[39;00m \u001b[38;5;21;01mdisplay_images\u001b[39;00m \u001b[38;5;28;01mimport\u001b[39;00m display_images\n\u001b[0;32m      6\u001b[0m sdk_config_dict \u001b[38;5;241m=\u001b[39m {\n\u001b[0;32m      7\u001b[0m   \u001b[38;5;124m\"\u001b[39m\u001b[38;5;124msaas_endpoint\u001b[39m\u001b[38;5;124m\"\u001b[39m: \u001b[38;5;124m\"\u001b[39m\u001b[38;5;124mhttps://app.akridata.ai\u001b[39m\u001b[38;5;124m\"\u001b[39m,\n\u001b[0;32m      8\u001b[0m   \u001b[38;5;124m\"\u001b[39m\u001b[38;5;124mapi_key\u001b[39m\u001b[38;5;124m\"\u001b[39m: \u001b[38;5;124m\"\u001b[39m\u001b[38;5;124makridata-apikey\u001b[39m\u001b[38;5;124m\"\u001b[39m,\n\u001b[0;32m      9\u001b[0m   \u001b[38;5;124m\"\u001b[39m\u001b[38;5;124mmode\u001b[39m\u001b[38;5;124m\"\u001b[39m: \u001b[38;5;124m\"\u001b[39m\u001b[38;5;124msaas\u001b[39m\u001b[38;5;124m\"\u001b[39m\n\u001b[0;32m     10\u001b[0m }\n\u001b[0;32m     11\u001b[0m \u001b[38;5;66;03m# Define the Data Explorer client side:\u001b[39;00m\n",
                        "\u001b[1;31mModuleNotFoundError\u001b[0m: No module named 'display_images'"
                    ]
                }
            ],
            "source": [
                "import matplotlib.pyplot as plt\n",
                "\n",
                "from akride import AkriDEClient, JobContext\n",
                "\n",
                "\n",
                "sdk_config_dict = {\n",
                "  \"saas_endpoint\": \"https://app.akridata.ai\",\n",
                "  \"api_key\": \"akridata-apikey\",\n",
                "  \"mode\": \"saas\"\n",
                "}\n",
                "# Define the Data Explorer client side:\n",
                "client = AkriDEClient(sdk_config_dict=sdk_config_dict)"
            ]
        },
        {
            "cell_type": "code",
            "execution_count": null,
            "id": "fc6fc31d-398a-4c91-85bd-b9467d2386cf",
            "metadata": {},
            "outputs": [],
            "source": [
                "# Utility:\n",
                "def display_images(images: list,\n",
                "                   n_rows: int,\n",
                "                   n_cols: int,\n",
                "                   figure_w: int,\n",
                "                   figure_h: int,\n",
                "                   save_file: str = None):\n",
                "    \"\"\"Display a grid of n_rows x n_cols of images. Show the images or save if path provided\"\"\"\n",
                "    if len(images) > (n_rows * n_cols):\n",
                "        raise Exception(f\"Provided {len(images)} images. Too much for a fig with {n_rows * n_cols} subplots\")\n",
                "    fig = plt.figure(figsize=(figure_w, figure_h))\n",
                "    for i, img in enumerate(images):\n",
                "        fig.add_subplot(n_rows, n_cols, i + 1)\n",
                "        plt.axis('off')\n",
                "        plt.tight_layout()\n",
                "        plt.imshow(img)\n",
                "\n",
                "    if save_file is None:\n",
                "        plt.show()\n",
                "    else:\n",
                "        plt.savefig(save_file)"
            ]
        },
        {
            "cell_type": "code",
            "execution_count": null,
            "id": "3fb1b9cd-43d3-4993-839b-47d12920d89d",
            "metadata": {},
            "outputs": [],
            "source": [
                "# Retrieve the job by name:\n",
                "job = client.get_job_by_name(\"data-explore\".upper())\n",
                "print(f\"Got job - {job.get_name()}\")\n",
                "\n",
                "# Use Coreset sampling to choose images to add to a result-set:\n",
                "samples = client.get_job_samples(job, JobContext.CORESET_SAMPLING, {\"percent\": 10})  # type: ignore"
            ]
        },
        {
            "cell_type": "code",
            "execution_count": null,
            "id": "a2c66b7d-4f87-4405-a51e-f300618569f5",
            "metadata": {},
            "outputs": [],
            "source": [
                "# Create a result-set:\n",
                "result_set_spec = {\"job\": job, \"name\": \"result-dog-search\", \"samples\": samples}\n",
                "resultset = client.create_resultset(result_set_spec)\n",
                "\n",
                "# An existing result-set can be retrieved by name as below:\n",
                "result_set_retrieved = client.get_resultset_by_name(\"result-dog-search\")\n",
                "\n",
                "# Get images from the resultset:\n",
                "result_set_samples = client.get_resultset_samples(resultset=resultset)  # type: ignore\n",
                "thumbnails = client.get_thumbnail_images(result_set_samples)\n",
                "print(f\"Retrieved {len(thumbnails)} images from result-set\")\n",
                "\n",
                "print(\"Display the result-set images:\")\n",
                "display_images(thumbnails, n_rows=3, n_cols=3, figure_w=5, figure_h=5, save_file=None)"
            ]
        }
    ],
    "metadata": {
        "kernelspec": {
            "display_name": "Python 3 (ipykernel)",
            "language": "python",
            "name": "python3"
        },
        "language_info": {
            "codemirror_mode": {
                "name": "ipython",
                "version": 3
            },
            "file_extension": ".py",
            "mimetype": "text/x-python",
            "name": "python",
            "nbconvert_exporter": "python",
            "pygments_lexer": "ipython3",
            "version": "3.10.7"
        }
    },
    "nbformat": 4,
    "nbformat_minor": 5
}