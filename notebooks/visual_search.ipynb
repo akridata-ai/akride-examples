{
 "cells": [
  {
   "cell_type": "markdown",
   "execution_count": null,
   "id": "1e8f8b7a-53f4-4fe5-bf62-5b99cbd3ff4b",
   "metadata": {},
   "outputs": [],
   "source": [
    "Create a visual search based on:\n",
    "    positive_samples - we want to see images like those\n",
    "    negative_samples - we don't want to see images like those\n",
    "\n",
    "To emphasize:\n",
    "The search is run on the images' content, not any metadata associated with the images.\n",
    "\n",
    "Focus on:\n",
    "akride.JobContext.SIMILARITY_SEARCH\n",
    "client.get_job_samples()"
   ]
  },
  {
   "cell_type": "code",
   "execution_count": null,
   "id": "1bd15cde-2e7f-4564-973a-bade4b34b3bb",
   "metadata": {},
   "outputs": [],
   "source": [
    "import matplotlib.pyplot as plt\n",
    "import os\n",
    "\n",
    "from akride import AkriDEClient, JobContext\n",
    "\n",
    "sdk_config_dict = {\n",
    "  \"saas_endpoint\": \"https://app.akridata.ai\",\n",
    "  \"api_key\": \"akridata-804b6140d095:kGgXfc2qbXrgso0f5cGzuynaCiLxLZ0fc6xvRs6eFBAu0Ykd\",\n",
    "  \"mode\": \"saas\"\n",
    "}\n",
    "# Define the Data Explorer client side:\n",
    "client = AkriDEClient(sdk_config_dict=sdk_config_dict)"
   ]
  },
  {
   "cell_type": "code",
   "execution_count": null,
   "id": "076c1f61-9bd7-4553-8526-949036c44693",
   "metadata": {},
   "outputs": [],
   "source": [
    "# Utility:\n",
    "def display_images(images: list,\n",
    "                   n_rows: int,\n",
    "                   n_cols: int,\n",
    "                   figure_w: int,\n",
    "                   figure_h: int,\n",
    "                   save_file: str = None):\n",
    "    \"\"\"Display a grid of n_rows x n_cols of images. Show the images or save if path provided\"\"\"\n",
    "    if len(images) > (n_rows * n_cols):\n",
    "        raise Exception(f\"Provided {len(images)} images. Too much for a fig with {n_rows * n_cols} subplots\")\n",
    "    fig = plt.figure(figsize=(figure_w, figure_h))\n",
    "    for i, img in enumerate(images):\n",
    "        fig.add_subplot(n_rows, n_cols, i + 1)\n",
    "        plt.axis('off')\n",
    "        plt.tight_layout()\n",
    "        plt.imshow(img)\n",
    "\n",
    "    if save_file is None:\n",
    "        plt.show()\n",
    "    else:\n",
    "        plt.savefig(save_file)"
   ]
  },
  {
   "cell_type": "code",
   "execution_count": null,
   "id": "5e54793c-d41a-457f-86f0-35353f9e5b7d",
   "metadata": {},
   "outputs": [],
   "source": [
    "# Retrieve the job by name:\n",
    "job = client.get_job_by_name(\"data-explore\".upper())\n",
    "print(f\"Got job - {job.get_name()}\")"
   ]
  },
  {
   "cell_type": "code",
   "execution_count": null,
   "id": "9650b5a1-e221-482a-9c9a-b8cecff41dc0",
   "metadata": {},
   "outputs": [],
   "source": [
    "# Positive Image samples for similarity search - you want results similar to them:\n",
    "pos_images = [\"../dataset/cat-dog-bird/dog/109.jpg\", \"../dataset/cat-dog-bird/dog/1073.jpg\"]\n",
    "# Negative Image Samples for similarity search - you don't want results similar to them:\n",
    "neg_images = [\"../dataset/cat-dog-bird/cat/1076.jpg\", \"../dataset/cat-dog-bird/bird/1080.jpg\"]\n",
    "\n",
    "# Ensure that the image paths used here match the image paths used for ingest:\n",
    "positive_samples = [os.path.abspath(os.path.join(os.getcwd(), sample)) for sample in pos_images]\n",
    "negative_samples = [os.path.abspath(os.path.join(os.getcwd(), sample)) for sample in neg_images]\n",
    "print(\"Pos and Neg examples:\")\n",
    "print(positive_samples)\n",
    "print(negative_samples)"
   ]
  },
  {
   "cell_type": "code",
   "execution_count": null,
   "id": "dfe99eba-16fa-457a-8dc3-a64b1fe59498",
   "metadata": {},
   "outputs": [],
   "source": [
    "spec = {'positive_samples': positive_samples, 'negative_samples': negative_samples}\n",
    "samples = client.get_job_samples(job, JobContext.SIMILARITY_SEARCH, spec)"
   ]
  },
  {
   "cell_type": "code",
   "execution_count": null,
   "id": "472a850d-c5b5-42d5-b42a-c92b56087b35",
   "metadata": {},
   "outputs": [],
   "source": [
    "thumbnails = client.get_thumbnail_images(samples=samples)\n",
    "print(f\"Retrieved {len(thumbnails)} images\")\n",
    "\n",
    "print(\"Displaying the results:\")\n",
    "display_images(thumbnails, n_rows=4, n_cols=4, figure_w=5, figure_h=5, save_file=None)"
   ]
  }
 ],
 "metadata": {
  "kernelspec": {
   "display_name": "Python 3 (ipykernel)",
   "language": "python",
   "name": "python3"
  },
  "language_info": {
   "codemirror_mode": {
    "name": "ipython",
    "version": 3
   },
   "file_extension": ".py",
   "mimetype": "text/x-python",
   "name": "python",
   "nbconvert_exporter": "python",
   "pygments_lexer": "ipython3",
   "version": "3.10.7"
  }
 },
 "nbformat": 4,
 "nbformat_minor": 5
}
