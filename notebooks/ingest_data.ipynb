{
    "cells": [
        {
            "cell_type": "markdown",
            "execution_count": null,
            "id": "e1c1e09a-bef3-46f4-89e8-a1e52d3575ec",
            "metadata": {},
            "outputs": [],
            "source": [
                "Ingest images from a new dataset to create a representation of each image.\n",
                "After this step, we can visualize, explore, sample the data and much more.\n",
                "\n",
                "Focus on:\n",
                "client.ingest_dataset()"
            ]
        },
        {
            "cell_type": "code",
            "execution_count": null,
            "id": "72cb9a84-38c9-4fdc-a73a-6f2342c6fa26",
            "metadata": {},
            "outputs": [],
            "source": [
                "import time\n",
                "\n",
                "from akride import AkriDEClient\n",
                "from akride.core.enums import DataType\n",
                "\n",
                "\n",
                "# Get the API_KEY from Data Explorer → Utilities → Get CLI/SDK config:\n",
                "sdk_config_dict = {\n",
                "  \"saas_endpoint\": \"https://app.akridata.ai\",\n",
                "  \"api_key\": \"akridata-apikey\",\n",
                "  \"mode\": \"saas\"\n",
                "}\n",
                "\n",
                "# Define the Data Explorer client side:\n",
                "client = AkriDEClient(sdk_config_dict=sdk_config_dict)"
            ]
        },
        {
            "cell_type": "code",
            "execution_count": null,
            "id": "e6c2a222-67d1-4a12-8aab-360fa144fac5",
            "metadata": {},
            "outputs": [],
            "source": [
                "# Register a dataset on Data Explorer:\n",
                "dataset_spec = {\"dataset_name\": \"Dataset-of-images\", \"data_type\": DataType.IMAGE}\n",
                "dataset = client.create_dataset(spec=dataset_spec)\n",
                "print(f\"Dataset {dataset.get_name()} created successfully with ID {dataset.get_id()}\")"
            ]
        },
        {
            "cell_type": "code",
            "execution_count": null,
            "id": "f378bbca-9039-4256-9a0a-e5bb722e732c",
            "metadata": {},
            "outputs": [],
            "source": [
                "# Process images:\n",
                "path_to_images = \"../dataset/cat-dog-bird/\"\n",
                "task = client.ingest_dataset(dataset=dataset, data_directory=path_to_images)\n",
                "while not task.has_completed():\n",
                "    print(f\"Current progress:{task.get_progress_info().percent_completed}%\")\n",
                "    time.sleep(5)\n",
                "print(\"Dataset ingestion done\")"
            ]
        }
    ],
    "metadata": {
        "kernelspec": {
            "display_name": "Python 3 (ipykernel)",
            "language": "python",
            "name": "python3"
        },
        "language_info": {
            "codemirror_mode": {
                "name": "ipython",
                "version": 3
            },
            "file_extension": ".py",
            "mimetype": "text/x-python",
            "name": "python",
            "nbconvert_exporter": "python",
            "pygments_lexer": "ipython3",
            "version": "3.10.7"
        }
    },
    "nbformat": 4,
    "nbformat_minor": 5
}